{
  "nbformat": 4,
  "nbformat_minor": 0,
  "metadata": {
    "colab": {
      "provenance": []
    },
    "kernelspec": {
      "name": "python3",
      "display_name": "Python 3"
    },
    "language_info": {
      "name": "python"
    }
  },
  "cells": [
    {
      "cell_type": "code",
      "source": [
        "#from google.colab import drive\n",
        "#drive.mount('/content/drive')"
      ],
      "metadata": {
        "id": "Yml7JDPRUT3e"
      },
      "execution_count": 1,
      "outputs": []
    },
    {
      "cell_type": "code",
      "source": [
        "import pandas as pd\n",
        "import numpy as np\n",
        "\n",
        "pd.set_option('display.max_rows', None)"
      ],
      "metadata": {
        "id": "gwYOJRuXUZ-h"
      },
      "execution_count": 2,
      "outputs": []
    },
    {
      "cell_type": "code",
      "source": [
        "df = pd.read_csv('/content/drive/MyDrive/adv_data_analytics/datasets/df_final.csv')"
      ],
      "metadata": {
        "id": "nB_1iS0qUZ7Z"
      },
      "execution_count": 3,
      "outputs": []
    },
    {
      "cell_type": "code",
      "source": [
        "df.columns"
      ],
      "metadata": {
        "colab": {
          "base_uri": "https://localhost:8080/"
        },
        "id": "lSoJTEQYQqh-",
        "outputId": "6fb0c380-781a-436d-e21d-0eeec977662f"
      },
      "execution_count": 4,
      "outputs": [
        {
          "output_type": "execute_result",
          "data": {
            "text/plain": [
              "Index(['Name', 'Country', 'Price', 'Year', 'League', 'Country_Code', 'ID',\n",
              "       'Age', 'Height_cm', 'Weight_kg', 'Club', 'Joined', 'Position', 'Foot',\n",
              "       'IntReputation', 'Crossing', 'Finishing', 'Heading_accuracy',\n",
              "       'Short_passing', 'Volleys', 'Dribbling', 'Curve', 'FK_accuracy',\n",
              "       'Long_passing', 'Ball_control', 'Acceleration', 'Sprint_speed',\n",
              "       'Agility', 'Reactions', 'Balance', 'Shot_power', 'Jumping', 'Stamina',\n",
              "       'Strength', 'Long_shots', 'Aggression', 'Interceptions', 'Positioning',\n",
              "       'Vision', 'Penalties', 'Marking', 'Standing_tackle', 'Sliding_tackle',\n",
              "       'GK_diving', 'GK_handling', 'GK_kicking', 'GK_positioning',\n",
              "       'GK_reflexes'],\n",
              "      dtype='object')"
            ]
          },
          "metadata": {},
          "execution_count": 4
        }
      ]
    },
    {
      "cell_type": "markdown",
      "source": [
        "<h1>Data Cleaning"
      ],
      "metadata": {
        "id": "6kOByMKrUhyx"
      }
    },
    {
      "cell_type": "code",
      "source": [
        "df.Price.nunique()"
      ],
      "metadata": {
        "colab": {
          "base_uri": "https://localhost:8080/"
        },
        "id": "YEvoHbE--S9D",
        "outputId": "31ca1117-5840-40f4-861f-db67fb06cdac"
      },
      "execution_count": 5,
      "outputs": [
        {
          "output_type": "execute_result",
          "data": {
            "text/plain": [
              "10"
            ]
          },
          "metadata": {},
          "execution_count": 5
        }
      ]
    },
    {
      "cell_type": "code",
      "source": [
        "df.head()"
      ],
      "metadata": {
        "colab": {
          "base_uri": "https://localhost:8080/",
          "height": 377
        },
        "id": "ugHfcI6WUg5A",
        "outputId": "14125bff-f68b-473e-a77c-4e55a97071b6"
      },
      "execution_count": 6,
      "outputs": [
        {
          "output_type": "execute_result",
          "data": {
            "text/plain": [
              "         Name  Country            Price       Year          League  \\\n",
              "0   D. Graham  England  5 to 15 million  2012-2013  Premier League   \n",
              "1    Y. Sylla   France   1 to 5 million  2012-2013  Premier League   \n",
              "2    C. Samba    Congo  5 to 15 million  2012-2013  Premier League   \n",
              "3     B. Shea      USA   1 to 5 million  2012-2013  Premier League   \n",
              "4   L. Holtby  Germany   1 to 5 million  2012-2013  Premier League   \n",
              "\n",
              "  Country_Code        ID   Age  Height_cm  Weight_kg  ... Vision Penalties  \\\n",
              "0          ENG  163340.0  24.0        185         88  ...   68.0      67.0   \n",
              "1          FRA  201917.0  19.0        184         80  ...   72.0      57.0   \n",
              "2          CGO   46590.0  26.0        196         91  ...   56.0      38.0   \n",
              "3          USA  186536.0  20.0        191         86  ...   61.0      55.0   \n",
              "4          GER  188154.0  19.0        176         72  ...   79.0      65.0   \n",
              "\n",
              "  Marking Standing_tackle  Sliding_tackle  GK_diving  GK_handling  GK_kicking  \\\n",
              "0    25.0            34.0            35.0       10.0          7.0        13.0   \n",
              "1    55.0            54.0            62.0        6.0          7.0        10.0   \n",
              "2    75.0            78.0            75.0       13.0         10.0         6.0   \n",
              "3    53.0            54.0            55.0       15.0          6.0        12.0   \n",
              "4    14.0            24.0            23.0       11.0         11.0         7.0   \n",
              "\n",
              "   GK_positioning  GK_reflexes  \n",
              "0            12.0          6.0  \n",
              "1            15.0          9.0  \n",
              "2             8.0          7.0  \n",
              "3            11.0          8.0  \n",
              "4            10.0          8.0  \n",
              "\n",
              "[5 rows x 48 columns]"
            ],
            "text/html": [
              "\n",
              "  <div id=\"df-e5bda2ea-fdf0-454c-bbf3-a418b30bb4f0\" class=\"colab-df-container\">\n",
              "    <div>\n",
              "<style scoped>\n",
              "    .dataframe tbody tr th:only-of-type {\n",
              "        vertical-align: middle;\n",
              "    }\n",
              "\n",
              "    .dataframe tbody tr th {\n",
              "        vertical-align: top;\n",
              "    }\n",
              "\n",
              "    .dataframe thead th {\n",
              "        text-align: right;\n",
              "    }\n",
              "</style>\n",
              "<table border=\"1\" class=\"dataframe\">\n",
              "  <thead>\n",
              "    <tr style=\"text-align: right;\">\n",
              "      <th></th>\n",
              "      <th>Name</th>\n",
              "      <th>Country</th>\n",
              "      <th>Price</th>\n",
              "      <th>Year</th>\n",
              "      <th>League</th>\n",
              "      <th>Country_Code</th>\n",
              "      <th>ID</th>\n",
              "      <th>Age</th>\n",
              "      <th>Height_cm</th>\n",
              "      <th>Weight_kg</th>\n",
              "      <th>...</th>\n",
              "      <th>Vision</th>\n",
              "      <th>Penalties</th>\n",
              "      <th>Marking</th>\n",
              "      <th>Standing_tackle</th>\n",
              "      <th>Sliding_tackle</th>\n",
              "      <th>GK_diving</th>\n",
              "      <th>GK_handling</th>\n",
              "      <th>GK_kicking</th>\n",
              "      <th>GK_positioning</th>\n",
              "      <th>GK_reflexes</th>\n",
              "    </tr>\n",
              "  </thead>\n",
              "  <tbody>\n",
              "    <tr>\n",
              "      <th>0</th>\n",
              "      <td>D. Graham</td>\n",
              "      <td>England</td>\n",
              "      <td>5 to 15 million</td>\n",
              "      <td>2012-2013</td>\n",
              "      <td>Premier League</td>\n",
              "      <td>ENG</td>\n",
              "      <td>163340.0</td>\n",
              "      <td>24.0</td>\n",
              "      <td>185</td>\n",
              "      <td>88</td>\n",
              "      <td>...</td>\n",
              "      <td>68.0</td>\n",
              "      <td>67.0</td>\n",
              "      <td>25.0</td>\n",
              "      <td>34.0</td>\n",
              "      <td>35.0</td>\n",
              "      <td>10.0</td>\n",
              "      <td>7.0</td>\n",
              "      <td>13.0</td>\n",
              "      <td>12.0</td>\n",
              "      <td>6.0</td>\n",
              "    </tr>\n",
              "    <tr>\n",
              "      <th>1</th>\n",
              "      <td>Y. Sylla</td>\n",
              "      <td>France</td>\n",
              "      <td>1 to 5 million</td>\n",
              "      <td>2012-2013</td>\n",
              "      <td>Premier League</td>\n",
              "      <td>FRA</td>\n",
              "      <td>201917.0</td>\n",
              "      <td>19.0</td>\n",
              "      <td>184</td>\n",
              "      <td>80</td>\n",
              "      <td>...</td>\n",
              "      <td>72.0</td>\n",
              "      <td>57.0</td>\n",
              "      <td>55.0</td>\n",
              "      <td>54.0</td>\n",
              "      <td>62.0</td>\n",
              "      <td>6.0</td>\n",
              "      <td>7.0</td>\n",
              "      <td>10.0</td>\n",
              "      <td>15.0</td>\n",
              "      <td>9.0</td>\n",
              "    </tr>\n",
              "    <tr>\n",
              "      <th>2</th>\n",
              "      <td>C. Samba</td>\n",
              "      <td>Congo</td>\n",
              "      <td>5 to 15 million</td>\n",
              "      <td>2012-2013</td>\n",
              "      <td>Premier League</td>\n",
              "      <td>CGO</td>\n",
              "      <td>46590.0</td>\n",
              "      <td>26.0</td>\n",
              "      <td>196</td>\n",
              "      <td>91</td>\n",
              "      <td>...</td>\n",
              "      <td>56.0</td>\n",
              "      <td>38.0</td>\n",
              "      <td>75.0</td>\n",
              "      <td>78.0</td>\n",
              "      <td>75.0</td>\n",
              "      <td>13.0</td>\n",
              "      <td>10.0</td>\n",
              "      <td>6.0</td>\n",
              "      <td>8.0</td>\n",
              "      <td>7.0</td>\n",
              "    </tr>\n",
              "    <tr>\n",
              "      <th>3</th>\n",
              "      <td>B. Shea</td>\n",
              "      <td>USA</td>\n",
              "      <td>1 to 5 million</td>\n",
              "      <td>2012-2013</td>\n",
              "      <td>Premier League</td>\n",
              "      <td>USA</td>\n",
              "      <td>186536.0</td>\n",
              "      <td>20.0</td>\n",
              "      <td>191</td>\n",
              "      <td>86</td>\n",
              "      <td>...</td>\n",
              "      <td>61.0</td>\n",
              "      <td>55.0</td>\n",
              "      <td>53.0</td>\n",
              "      <td>54.0</td>\n",
              "      <td>55.0</td>\n",
              "      <td>15.0</td>\n",
              "      <td>6.0</td>\n",
              "      <td>12.0</td>\n",
              "      <td>11.0</td>\n",
              "      <td>8.0</td>\n",
              "    </tr>\n",
              "    <tr>\n",
              "      <th>4</th>\n",
              "      <td>L. Holtby</td>\n",
              "      <td>Germany</td>\n",
              "      <td>1 to 5 million</td>\n",
              "      <td>2012-2013</td>\n",
              "      <td>Premier League</td>\n",
              "      <td>GER</td>\n",
              "      <td>188154.0</td>\n",
              "      <td>19.0</td>\n",
              "      <td>176</td>\n",
              "      <td>72</td>\n",
              "      <td>...</td>\n",
              "      <td>79.0</td>\n",
              "      <td>65.0</td>\n",
              "      <td>14.0</td>\n",
              "      <td>24.0</td>\n",
              "      <td>23.0</td>\n",
              "      <td>11.0</td>\n",
              "      <td>11.0</td>\n",
              "      <td>7.0</td>\n",
              "      <td>10.0</td>\n",
              "      <td>8.0</td>\n",
              "    </tr>\n",
              "  </tbody>\n",
              "</table>\n",
              "<p>5 rows × 48 columns</p>\n",
              "</div>\n",
              "    <div class=\"colab-df-buttons\">\n",
              "\n",
              "  <div class=\"colab-df-container\">\n",
              "    <button class=\"colab-df-convert\" onclick=\"convertToInteractive('df-e5bda2ea-fdf0-454c-bbf3-a418b30bb4f0')\"\n",
              "            title=\"Convert this dataframe to an interactive table.\"\n",
              "            style=\"display:none;\">\n",
              "\n",
              "  <svg xmlns=\"http://www.w3.org/2000/svg\" height=\"24px\" viewBox=\"0 -960 960 960\">\n",
              "    <path d=\"M120-120v-720h720v720H120Zm60-500h600v-160H180v160Zm220 220h160v-160H400v160Zm0 220h160v-160H400v160ZM180-400h160v-160H180v160Zm440 0h160v-160H620v160ZM180-180h160v-160H180v160Zm440 0h160v-160H620v160Z\"/>\n",
              "  </svg>\n",
              "    </button>\n",
              "\n",
              "  <style>\n",
              "    .colab-df-container {\n",
              "      display:flex;\n",
              "      gap: 12px;\n",
              "    }\n",
              "\n",
              "    .colab-df-convert {\n",
              "      background-color: #E8F0FE;\n",
              "      border: none;\n",
              "      border-radius: 50%;\n",
              "      cursor: pointer;\n",
              "      display: none;\n",
              "      fill: #1967D2;\n",
              "      height: 32px;\n",
              "      padding: 0 0 0 0;\n",
              "      width: 32px;\n",
              "    }\n",
              "\n",
              "    .colab-df-convert:hover {\n",
              "      background-color: #E2EBFA;\n",
              "      box-shadow: 0px 1px 2px rgba(60, 64, 67, 0.3), 0px 1px 3px 1px rgba(60, 64, 67, 0.15);\n",
              "      fill: #174EA6;\n",
              "    }\n",
              "\n",
              "    .colab-df-buttons div {\n",
              "      margin-bottom: 4px;\n",
              "    }\n",
              "\n",
              "    [theme=dark] .colab-df-convert {\n",
              "      background-color: #3B4455;\n",
              "      fill: #D2E3FC;\n",
              "    }\n",
              "\n",
              "    [theme=dark] .colab-df-convert:hover {\n",
              "      background-color: #434B5C;\n",
              "      box-shadow: 0px 1px 3px 1px rgba(0, 0, 0, 0.15);\n",
              "      filter: drop-shadow(0px 1px 2px rgba(0, 0, 0, 0.3));\n",
              "      fill: #FFFFFF;\n",
              "    }\n",
              "  </style>\n",
              "\n",
              "    <script>\n",
              "      const buttonEl =\n",
              "        document.querySelector('#df-e5bda2ea-fdf0-454c-bbf3-a418b30bb4f0 button.colab-df-convert');\n",
              "      buttonEl.style.display =\n",
              "        google.colab.kernel.accessAllowed ? 'block' : 'none';\n",
              "\n",
              "      async function convertToInteractive(key) {\n",
              "        const element = document.querySelector('#df-e5bda2ea-fdf0-454c-bbf3-a418b30bb4f0');\n",
              "        const dataTable =\n",
              "          await google.colab.kernel.invokeFunction('convertToInteractive',\n",
              "                                                    [key], {});\n",
              "        if (!dataTable) return;\n",
              "\n",
              "        const docLinkHtml = 'Like what you see? Visit the ' +\n",
              "          '<a target=\"_blank\" href=https://colab.research.google.com/notebooks/data_table.ipynb>data table notebook</a>'\n",
              "          + ' to learn more about interactive tables.';\n",
              "        element.innerHTML = '';\n",
              "        dataTable['output_type'] = 'display_data';\n",
              "        await google.colab.output.renderOutput(dataTable, element);\n",
              "        const docLink = document.createElement('div');\n",
              "        docLink.innerHTML = docLinkHtml;\n",
              "        element.appendChild(docLink);\n",
              "      }\n",
              "    </script>\n",
              "  </div>\n",
              "\n",
              "\n",
              "<div id=\"df-f23c36bf-bc32-4213-b832-3fa565f004f8\">\n",
              "  <button class=\"colab-df-quickchart\" onclick=\"quickchart('df-f23c36bf-bc32-4213-b832-3fa565f004f8')\"\n",
              "            title=\"Suggest charts\"\n",
              "            style=\"display:none;\">\n",
              "\n",
              "<svg xmlns=\"http://www.w3.org/2000/svg\" height=\"24px\"viewBox=\"0 0 24 24\"\n",
              "     width=\"24px\">\n",
              "    <g>\n",
              "        <path d=\"M19 3H5c-1.1 0-2 .9-2 2v14c0 1.1.9 2 2 2h14c1.1 0 2-.9 2-2V5c0-1.1-.9-2-2-2zM9 17H7v-7h2v7zm4 0h-2V7h2v10zm4 0h-2v-4h2v4z\"/>\n",
              "    </g>\n",
              "</svg>\n",
              "  </button>\n",
              "\n",
              "<style>\n",
              "  .colab-df-quickchart {\n",
              "      --bg-color: #E8F0FE;\n",
              "      --fill-color: #1967D2;\n",
              "      --hover-bg-color: #E2EBFA;\n",
              "      --hover-fill-color: #174EA6;\n",
              "      --disabled-fill-color: #AAA;\n",
              "      --disabled-bg-color: #DDD;\n",
              "  }\n",
              "\n",
              "  [theme=dark] .colab-df-quickchart {\n",
              "      --bg-color: #3B4455;\n",
              "      --fill-color: #D2E3FC;\n",
              "      --hover-bg-color: #434B5C;\n",
              "      --hover-fill-color: #FFFFFF;\n",
              "      --disabled-bg-color: #3B4455;\n",
              "      --disabled-fill-color: #666;\n",
              "  }\n",
              "\n",
              "  .colab-df-quickchart {\n",
              "    background-color: var(--bg-color);\n",
              "    border: none;\n",
              "    border-radius: 50%;\n",
              "    cursor: pointer;\n",
              "    display: none;\n",
              "    fill: var(--fill-color);\n",
              "    height: 32px;\n",
              "    padding: 0;\n",
              "    width: 32px;\n",
              "  }\n",
              "\n",
              "  .colab-df-quickchart:hover {\n",
              "    background-color: var(--hover-bg-color);\n",
              "    box-shadow: 0 1px 2px rgba(60, 64, 67, 0.3), 0 1px 3px 1px rgba(60, 64, 67, 0.15);\n",
              "    fill: var(--button-hover-fill-color);\n",
              "  }\n",
              "\n",
              "  .colab-df-quickchart-complete:disabled,\n",
              "  .colab-df-quickchart-complete:disabled:hover {\n",
              "    background-color: var(--disabled-bg-color);\n",
              "    fill: var(--disabled-fill-color);\n",
              "    box-shadow: none;\n",
              "  }\n",
              "\n",
              "  .colab-df-spinner {\n",
              "    border: 2px solid var(--fill-color);\n",
              "    border-color: transparent;\n",
              "    border-bottom-color: var(--fill-color);\n",
              "    animation:\n",
              "      spin 1s steps(1) infinite;\n",
              "  }\n",
              "\n",
              "  @keyframes spin {\n",
              "    0% {\n",
              "      border-color: transparent;\n",
              "      border-bottom-color: var(--fill-color);\n",
              "      border-left-color: var(--fill-color);\n",
              "    }\n",
              "    20% {\n",
              "      border-color: transparent;\n",
              "      border-left-color: var(--fill-color);\n",
              "      border-top-color: var(--fill-color);\n",
              "    }\n",
              "    30% {\n",
              "      border-color: transparent;\n",
              "      border-left-color: var(--fill-color);\n",
              "      border-top-color: var(--fill-color);\n",
              "      border-right-color: var(--fill-color);\n",
              "    }\n",
              "    40% {\n",
              "      border-color: transparent;\n",
              "      border-right-color: var(--fill-color);\n",
              "      border-top-color: var(--fill-color);\n",
              "    }\n",
              "    60% {\n",
              "      border-color: transparent;\n",
              "      border-right-color: var(--fill-color);\n",
              "    }\n",
              "    80% {\n",
              "      border-color: transparent;\n",
              "      border-right-color: var(--fill-color);\n",
              "      border-bottom-color: var(--fill-color);\n",
              "    }\n",
              "    90% {\n",
              "      border-color: transparent;\n",
              "      border-bottom-color: var(--fill-color);\n",
              "    }\n",
              "  }\n",
              "</style>\n",
              "\n",
              "  <script>\n",
              "    async function quickchart(key) {\n",
              "      const quickchartButtonEl =\n",
              "        document.querySelector('#' + key + ' button');\n",
              "      quickchartButtonEl.disabled = true;  // To prevent multiple clicks.\n",
              "      quickchartButtonEl.classList.add('colab-df-spinner');\n",
              "      try {\n",
              "        const charts = await google.colab.kernel.invokeFunction(\n",
              "            'suggestCharts', [key], {});\n",
              "      } catch (error) {\n",
              "        console.error('Error during call to suggestCharts:', error);\n",
              "      }\n",
              "      quickchartButtonEl.classList.remove('colab-df-spinner');\n",
              "      quickchartButtonEl.classList.add('colab-df-quickchart-complete');\n",
              "    }\n",
              "    (() => {\n",
              "      let quickchartButtonEl =\n",
              "        document.querySelector('#df-f23c36bf-bc32-4213-b832-3fa565f004f8 button');\n",
              "      quickchartButtonEl.style.display =\n",
              "        google.colab.kernel.accessAllowed ? 'block' : 'none';\n",
              "    })();\n",
              "  </script>\n",
              "</div>\n",
              "    </div>\n",
              "  </div>\n"
            ],
            "application/vnd.google.colaboratory.intrinsic+json": {
              "type": "dataframe",
              "variable_name": "df"
            }
          },
          "metadata": {},
          "execution_count": 6
        }
      ]
    },
    {
      "cell_type": "code",
      "source": [
        "df.info()"
      ],
      "metadata": {
        "colab": {
          "base_uri": "https://localhost:8080/"
        },
        "id": "HJ_mvaJjUkaB",
        "outputId": "52c4d010-2ef4-4d67-b2e7-6cb37a0d8f1c"
      },
      "execution_count": 7,
      "outputs": [
        {
          "output_type": "stream",
          "name": "stdout",
          "text": [
            "<class 'pandas.core.frame.DataFrame'>\n",
            "RangeIndex: 4213 entries, 0 to 4212\n",
            "Data columns (total 48 columns):\n",
            " #   Column            Non-Null Count  Dtype  \n",
            "---  ------            --------------  -----  \n",
            " 0   Name              4213 non-null   object \n",
            " 1   Country           4213 non-null   object \n",
            " 2   Price             4213 non-null   object \n",
            " 3   Year              4213 non-null   object \n",
            " 4   League            4213 non-null   object \n",
            " 5   Country_Code      4213 non-null   object \n",
            " 6   ID                4213 non-null   float64\n",
            " 7   Age               4213 non-null   float64\n",
            " 8   Height_cm         4213 non-null   int64  \n",
            " 9   Weight_kg         4213 non-null   int64  \n",
            " 10  Club              4213 non-null   object \n",
            " 11  Joined            4213 non-null   object \n",
            " 12  Position          4213 non-null   object \n",
            " 13  Foot              4213 non-null   object \n",
            " 14  IntReputation     4213 non-null   float64\n",
            " 15  Crossing          4213 non-null   float64\n",
            " 16  Finishing         4213 non-null   float64\n",
            " 17  Heading_accuracy  4213 non-null   float64\n",
            " 18  Short_passing     4213 non-null   float64\n",
            " 19  Volleys           4213 non-null   float64\n",
            " 20  Dribbling         4213 non-null   float64\n",
            " 21  Curve             4213 non-null   float64\n",
            " 22  FK_accuracy       4213 non-null   float64\n",
            " 23  Long_passing      4213 non-null   float64\n",
            " 24  Ball_control      4213 non-null   float64\n",
            " 25  Acceleration      4213 non-null   float64\n",
            " 26  Sprint_speed      4213 non-null   float64\n",
            " 27  Agility           4213 non-null   float64\n",
            " 28  Reactions         4213 non-null   float64\n",
            " 29  Balance           4213 non-null   float64\n",
            " 30  Shot_power        4213 non-null   float64\n",
            " 31  Jumping           4213 non-null   float64\n",
            " 32  Stamina           4213 non-null   float64\n",
            " 33  Strength          4213 non-null   float64\n",
            " 34  Long_shots        4213 non-null   float64\n",
            " 35  Aggression        4213 non-null   float64\n",
            " 36  Interceptions     4213 non-null   float64\n",
            " 37  Positioning       4213 non-null   float64\n",
            " 38  Vision            4213 non-null   float64\n",
            " 39  Penalties         4213 non-null   float64\n",
            " 40  Marking           4213 non-null   float64\n",
            " 41  Standing_tackle   4213 non-null   float64\n",
            " 42  Sliding_tackle    4213 non-null   float64\n",
            " 43  GK_diving         4213 non-null   float64\n",
            " 44  GK_handling       4213 non-null   float64\n",
            " 45  GK_kicking        4213 non-null   float64\n",
            " 46  GK_positioning    4213 non-null   float64\n",
            " 47  GK_reflexes       4213 non-null   float64\n",
            "dtypes: float64(36), int64(2), object(10)\n",
            "memory usage: 1.5+ MB\n"
          ]
        }
      ]
    },
    {
      "cell_type": "code",
      "source": [
        "df.isnull().sum().sum()"
      ],
      "metadata": {
        "colab": {
          "base_uri": "https://localhost:8080/"
        },
        "id": "soBmw3hRUpfg",
        "outputId": "30e72aa6-0708-4084-dafb-6f2a6efbb1ad"
      },
      "execution_count": 8,
      "outputs": [
        {
          "output_type": "execute_result",
          "data": {
            "text/plain": [
              "0"
            ]
          },
          "metadata": {},
          "execution_count": 8
        }
      ]
    },
    {
      "cell_type": "code",
      "source": [
        "cols_to_drop = ['Name', 'Country_Code', 'Year', 'ID', 'Club', 'Joined']\n",
        "df = df.drop(cols_to_drop, axis = 1)"
      ],
      "metadata": {
        "id": "HocVlsx_VC5h"
      },
      "execution_count": 9,
      "outputs": []
    },
    {
      "cell_type": "code",
      "source": [
        "df.columns"
      ],
      "metadata": {
        "colab": {
          "base_uri": "https://localhost:8080/"
        },
        "id": "uHKmUg2eQyc3",
        "outputId": "d2301692-5d76-4648-de83-2dd56cacd18b"
      },
      "execution_count": 10,
      "outputs": [
        {
          "output_type": "execute_result",
          "data": {
            "text/plain": [
              "Index(['Country', 'Price', 'League', 'Age', 'Height_cm', 'Weight_kg',\n",
              "       'Position', 'Foot', 'IntReputation', 'Crossing', 'Finishing',\n",
              "       'Heading_accuracy', 'Short_passing', 'Volleys', 'Dribbling', 'Curve',\n",
              "       'FK_accuracy', 'Long_passing', 'Ball_control', 'Acceleration',\n",
              "       'Sprint_speed', 'Agility', 'Reactions', 'Balance', 'Shot_power',\n",
              "       'Jumping', 'Stamina', 'Strength', 'Long_shots', 'Aggression',\n",
              "       'Interceptions', 'Positioning', 'Vision', 'Penalties', 'Marking',\n",
              "       'Standing_tackle', 'Sliding_tackle', 'GK_diving', 'GK_handling',\n",
              "       'GK_kicking', 'GK_positioning', 'GK_reflexes'],\n",
              "      dtype='object')"
            ]
          },
          "metadata": {},
          "execution_count": 10
        }
      ]
    },
    {
      "cell_type": "code",
      "source": [
        "new_column_order = ['League','Country', 'Price', 'Age', 'Height_cm', 'Weight_kg',\n",
        "       'Position', 'Foot', 'IntReputation', 'Crossing', 'Finishing',\n",
        "       'Heading_accuracy', 'Short_passing', 'Volleys', 'Dribbling', 'Curve',\n",
        "       'FK_accuracy', 'Long_passing', 'Ball_control', 'Acceleration',\n",
        "       'Sprint_speed', 'Agility', 'Reactions', 'Balance', 'Shot_power',\n",
        "       'Jumping', 'Stamina', 'Strength', 'Long_shots', 'Aggression',\n",
        "       'Interceptions', 'Positioning', 'Vision', 'Penalties', 'Marking',\n",
        "       'Standing_tackle', 'Sliding_tackle', 'GK_diving', 'GK_handling',\n",
        "       'GK_kicking', 'GK_positioning', 'GK_reflexes']\n",
        "\n",
        "df = df[new_column_order]"
      ],
      "metadata": {
        "id": "_oHxvOwcj1j-"
      },
      "execution_count": 11,
      "outputs": []
    },
    {
      "cell_type": "code",
      "source": [
        "df.to_csv('df_final_ready.csv', index = False, encoding=\"utf-8-sig\")"
      ],
      "metadata": {
        "id": "9nJj-pOLZEuB"
      },
      "execution_count": 12,
      "outputs": []
    },
    {
      "cell_type": "markdown",
      "source": [
        "<h1>Feature Engineering"
      ],
      "metadata": {
        "id": "WiaTqwTaZtkK"
      }
    },
    {
      "cell_type": "markdown",
      "source": [
        "1. Position encoding with GK as DEF\n",
        "2. Position encoding with GK separate\n",
        "3. Country grouping by using 'Others'\n",
        "4. Country grouping by joining related countries."
      ],
      "metadata": {
        "id": "VJeTpYTfZv3t"
      }
    },
    {
      "cell_type": "code",
      "source": [
        "fe_1 = True; fe_2 = False\n",
        "fe_3 = False; fe_4 = True"
      ],
      "metadata": {
        "id": "ckrFnEcKcoEV"
      },
      "execution_count": 13,
      "outputs": []
    },
    {
      "cell_type": "markdown",
      "source": [
        "<h4>Position Coding 1"
      ],
      "metadata": {
        "id": "pNTZ0RGCj2Pp"
      }
    },
    {
      "cell_type": "code",
      "source": [
        "df.Position.unique()"
      ],
      "metadata": {
        "colab": {
          "base_uri": "https://localhost:8080/"
        },
        "id": "gGMec4PXj1WF",
        "outputId": "92814cce-37ce-4cdc-87d4-2274b50dbf50"
      },
      "execution_count": 14,
      "outputs": [
        {
          "output_type": "execute_result",
          "data": {
            "text/plain": [
              "array(['ST', 'CDM', 'CB', 'LM', 'LW', 'RW', 'RB', 'CM', 'GK', 'LWB', 'RM',\n",
              "       'CF', 'CAM', 'RWB', 'LB'], dtype=object)"
            ]
          },
          "metadata": {},
          "execution_count": 14
        }
      ]
    },
    {
      "cell_type": "code",
      "source": [
        "if fe_1 == True:\n",
        "  position_mapping = {\n",
        "      'ST': 'ATT',\n",
        "      'CDM': 'MID',\n",
        "      'CB': 'DEF',\n",
        "      'LM': 'MID',\n",
        "      'LW': 'ATT',\n",
        "      'RW':'ATT',\n",
        "      'RB':'DEF',\n",
        "      'CM':'MID',\n",
        "      'GK':'DEF',\n",
        "      'LWB':'DEF',\n",
        "      'RM':'MID',\n",
        "      'CF':'ATT',\n",
        "      'CAM':'MID',\n",
        "      'RWB':'DEF',\n",
        "      'LB':'DEF'\n",
        "  }\n",
        "\n",
        "  df['Position'] = df['Position'].replace(position_mapping)"
      ],
      "metadata": {
        "id": "ltqd7Ab8kAmG"
      },
      "execution_count": 15,
      "outputs": []
    },
    {
      "cell_type": "markdown",
      "source": [
        "Position Coding 2"
      ],
      "metadata": {
        "id": "k3YhcfivbwK7"
      }
    },
    {
      "cell_type": "code",
      "source": [
        "if fe_2 == True:\n",
        "  position_mapping = {\n",
        "      'ST': 'ATT',\n",
        "      'CDM': 'MID',\n",
        "      'CB': 'DEF',\n",
        "      'LM': 'MID',\n",
        "      'LW': 'ATT',\n",
        "      'RW':'ATT',\n",
        "      'RB':'DEF',\n",
        "      'CM':'MID',\n",
        "      'GK':'GK',\n",
        "      'LWB':'DEF',\n",
        "      'RM':'MID',\n",
        "      'CF':'ATT',\n",
        "      'CAM':'MID',\n",
        "      'RWB':'DEF',\n",
        "      'LB':'DEF'\n",
        "  }\n",
        "\n",
        "  df['Position'] = df['Position'].replace(position_mapping)"
      ],
      "metadata": {
        "id": "6jW9SwrFb0Rx"
      },
      "execution_count": 16,
      "outputs": []
    },
    {
      "cell_type": "markdown",
      "source": [
        "Country Grouping 1"
      ],
      "metadata": {
        "id": "CEDuarcdcRCT"
      }
    },
    {
      "cell_type": "code",
      "source": [
        "print(df['Country'].value_counts())"
      ],
      "metadata": {
        "colab": {
          "base_uri": "https://localhost:8080/"
        },
        "id": "jmp1csLtVyeR",
        "outputId": "cd6e3599-f5aa-4114-e304-9bd8841c0c0b",
        "collapsed": true
      },
      "execution_count": 17,
      "outputs": [
        {
          "output_type": "stream",
          "name": "stdout",
          "text": [
            "Country\n",
            "Italy                     688\n",
            "England                   475\n",
            "Germany                   351\n",
            "France                    329\n",
            "Argentina                 273\n",
            "Netherlands               142\n",
            "Belgium                    97\n",
            "Switzerland                95\n",
            "Spain                      95\n",
            "Colombia                   92\n",
            "Denmark                    80\n",
            "Ghana                      71\n",
            "Uruguay                    68\n",
            "Nigeria                    67\n",
            "Austria                    59\n",
            "Senegal                    57\n",
            "Norway                     55\n",
            "Greece                     50\n",
            "Croatia                    50\n",
            "Sweden                     50\n",
            "Poland                     47\n",
            "Scotland                   45\n",
            "Morocco                    40\n",
            "Ivory Coast                38\n",
            "Ireland                    37\n",
            "Serbia                     36\n",
            "Japan                      36\n",
            "Algeria                    35\n",
            "United States              35\n",
            "Chile                      34\n",
            "Wales                      34\n",
            "Australia                  31\n",
            "Mexico                     28\n",
            "Turkey                     28\n",
            "Cameroon                   26\n",
            "Albania                    25\n",
            "Portugal                   24\n",
            "Brazil                     23\n",
            "Paraguay                   16\n",
            "Slovenia                   15\n",
            "Czech Republic             14\n",
            "Mali                       14\n",
            "Slovakia                   13\n",
            "USA                        12\n",
            "Ukraine                    11\n",
            "Romania                    11\n",
            "DR Congo                   11\n",
            "Kosovo                     11\n",
            "Ecuador                    11\n",
            "Costa Rica                 10\n",
            "Peru                        9\n",
            "Venezuela                   9\n",
            "Russia                      9\n",
            "Northern Ireland            8\n",
            "Guinea                      8\n",
            "Hungary                     8\n",
            "Congo                       8\n",
            "Gabon                       8\n",
            "Canada                      7\n",
            "New Zealand                 7\n",
            "Egypt                       7\n",
            "Jamaica                     7\n",
            "Tunisia                     7\n",
            "Finland                     7\n",
            "Armenia                     6\n",
            "Bulgaria                    6\n",
            "Iceland                     6\n",
            "Israel                      5\n",
            "Kenya                       5\n",
            "Togo                        5\n",
            "FYR Macedonia               5\n",
            "Bosnia                      5\n",
            "South Korea                 4\n",
            "Gambia                      3\n",
            "Lithuania                   3\n",
            "Honduras                    3\n",
            "Italy                       3\n",
            "Martinique                  3\n",
            "Rep. of Ireland             3\n",
            "Zambia                      3\n",
            "Sierra Leone                3\n",
            "France                      2\n",
            "Curacao                     2\n",
            "Czech Rep.                  2\n",
            "Spain                       2\n",
            "Zimbabwe                    2\n",
            "Angola                      2\n",
            "Libya                       2\n",
            "Iraq                        1\n",
            "Azerbaijan                  1\n",
            "Burkina Faso                1\n",
            "French Guiana               1\n",
            "Poland                      1\n",
            "loan                        1\n",
            "Cyprus                      1\n",
            "Panama                      1\n",
            "Gabor                       1\n",
            "Uzbekistan                  1\n",
            "Iran                        1\n",
            "Latvia                      1\n",
            "Montenegro                  1\n",
            "Gergia                      1\n",
            "Guadeloupe                  1\n",
            "Greece                      1\n",
            "Republic of Tanzania        1\n",
            "Ukraine                     1\n",
            "Bermuda                     1\n",
            "Estonia                     1\n",
            "Benin                       1\n",
            "Georgia                     1\n",
            "South Africa                1\n",
            "Bosnia and Herzegovina      1\n",
            "Name: count, dtype: int64\n"
          ]
        }
      ]
    },
    {
      "cell_type": "code",
      "source": [
        "df.Country.unique()"
      ],
      "metadata": {
        "colab": {
          "base_uri": "https://localhost:8080/"
        },
        "id": "IXW8oMfReF1h",
        "outputId": "0346962c-badc-4df9-9ac3-c8a4ac93adc5"
      },
      "execution_count": 18,
      "outputs": [
        {
          "output_type": "execute_result",
          "data": {
            "text/plain": [
              "array(['England', 'France', 'Congo', 'USA', 'Germany', 'Norway',\n",
              "       'Senegal', 'Scotland', 'Japan', 'Bulgaria', 'Uruguay',\n",
              "       'Costa Rica', 'Zambia', 'Nigeria', 'Togo', 'Belgium', 'Morocco',\n",
              "       'Netherlands', 'Wales', 'South Africa', 'Italy', 'Spain', 'Ghana',\n",
              "       'Greece', 'Chile', 'Argentina', 'FYR Macedonia', 'Denmark',\n",
              "       'Croatia', 'Serbia', 'Austria', 'Switzerland', 'Cameroon',\n",
              "       'Ireland', 'Ivory Coast', 'Kenya', 'Sweden', 'Spain ', 'Algeria',\n",
              "       'Colombia', 'Poland', 'Gabon', 'Hungary', 'South Korea',\n",
              "       'DR Congo', 'Canada', 'Ecuador', 'Australia', 'Georgia',\n",
              "       'Slovenia', 'Tunisia', 'United States', 'Egypt', 'Jamaica',\n",
              "       'Slovakia', 'Iceland', 'Portugal', 'Mexico', 'Finland', 'Brazil',\n",
              "       'Turkey', 'Benin', 'Rep. of Ireland', 'Estonia', 'Armenia',\n",
              "       'Albania', 'Paraguay', 'Russia', 'Bermuda', 'New Zealand',\n",
              "       'Kosovo', 'Ukraine ', 'Romania', 'Honduras', 'Iran',\n",
              "       'Northern Ireland', 'Gambia', 'Ukraine', 'Republic of Tanzania',\n",
              "       'Zimbabwe', 'Israel', 'Czech Republic', 'Greece ', 'Guadeloupe',\n",
              "       'Mali', 'Gergia', 'Sierra Leone', 'Peru', 'Guinea', 'Montenegro',\n",
              "       'Latvia', 'Italy ', 'Lithuania', 'Bosnia', 'France ', 'Curacao',\n",
              "       'Czech Rep.', 'Libya', 'Martinique', 'Venezuela', 'French Guiana',\n",
              "       'Iraq', 'Azerbaijan', 'Burkina Faso', 'Poland ', 'loan', 'Cyprus',\n",
              "       'Angola', 'Panama', 'Gabor', 'Uzbekistan',\n",
              "       'Bosnia and Herzegovina'], dtype=object)"
            ]
          },
          "metadata": {},
          "execution_count": 18
        }
      ]
    },
    {
      "cell_type": "code",
      "source": [
        "if fe_3 == True:\n",
        "  country_counts = df['Country'].value_counts()\n",
        "  values_to_replace = country_counts[country_counts < 50].index\n",
        "  df.loc[df['Country'].isin(values_to_replace), 'Country'] = 'Others'"
      ],
      "metadata": {
        "id": "OdS_Xj_7Wptk"
      },
      "execution_count": 19,
      "outputs": []
    },
    {
      "cell_type": "markdown",
      "source": [
        "Country Grouping 2"
      ],
      "metadata": {
        "id": "eedeoUptd944"
      }
    },
    {
      "cell_type": "code",
      "source": [
        "latin_american_countries = [\n",
        "    \"Uruguay\",\n",
        "    \"Costa Rica\",\n",
        "    \"Chile\",\n",
        "    \"Argentina\",\n",
        "    \"Colombia\",\n",
        "    \"Ecuador\",\n",
        "    \"Brazil\",\n",
        "    \"Mexico\",\n",
        "    \"Paraguay\",\n",
        "    \"Honduras\",\n",
        "    \"Peru\",\n",
        "    \"Venezuela\",\n",
        "    \"Panama\",\n",
        "    \"Mexico\"\n",
        "]\n",
        "\n",
        "balkan_countries = [\n",
        "    \"Bulgaria\",\n",
        "    \"FYR Macedonia\",\n",
        "    \"Croatia\",\n",
        "    \"Serbia\",\n",
        "    \"Slovenia\",\n",
        "    \"Albania\",\n",
        "    \"Kosovo\",\n",
        "    \"Romania\",\n",
        "    \"Montenegro\",\n",
        "    \"Bosnia and Herzegovina\"\n",
        "]\n",
        "\n",
        "african_countries = [\n",
        "    \"Congo\",\n",
        "    \"Senegal\",\n",
        "    \"Zambia\",\n",
        "    \"Nigeria\",\n",
        "    \"Togo\",\n",
        "    \"Morocco\",\n",
        "    \"South Africa\",\n",
        "    \"Ghana\",\n",
        "    \"Cameroon\",\n",
        "    \"Ivory Coast\",\n",
        "    \"Kenya\",\n",
        "    \"Algeria\",\n",
        "    \"Gabon\",\n",
        "    \"DR Congo\",\n",
        "    \"Tunisia\",\n",
        "    \"Egypt\",\n",
        "    \"Benin\",\n",
        "    \"Gambia\",\n",
        "    \"Republic of Tanzania\",\n",
        "    \"Zimbabwe\",\n",
        "    \"Guinea\",\n",
        "    \"Sierra Leone\",\n",
        "    \"Mali\",\n",
        "    \"Libya\",\n",
        "    \"Burkina Faso\",\n",
        "    \"Angola\"\n",
        "]\n",
        "\n",
        "scandinavian_countries = [\n",
        "    \"Norway\",\n",
        "    \"Sweden\",\n",
        "    \"Denmark\",\n",
        "    \"Iceland\",\n",
        "    \"Finland\"\n",
        "]\n",
        "\n",
        "britannia_countries = [\n",
        "    'Wales',\n",
        "    'Scotland'\n",
        "]\n",
        "\n",
        "def map_to_latin_america(country):\n",
        "  if country in latin_american_countries:\n",
        "    return \"Latin America\"\n",
        "  else:\n",
        "    return country\n",
        "\n",
        "def map_to_balkan(country):\n",
        "  if country in balkan_countries:\n",
        "    return \"Balkan\"\n",
        "  else:\n",
        "    return country\n",
        "\n",
        "def map_to_african(country):\n",
        "  if country in african_countries:\n",
        "    return \"African\"\n",
        "  else:\n",
        "    return country\n",
        "\n",
        "def map_to_scandinavian(country):\n",
        "  if country in scandinavian_countries:\n",
        "    return \"Scandinavian\"\n",
        "  else:\n",
        "    return country\n",
        "\n",
        "def map_to_britania(country):\n",
        "  if country in britannia_countries:\n",
        "    return \"Britania\"\n",
        "  else:\n",
        "    return country"
      ],
      "metadata": {
        "id": "KfkkdBcveTL6"
      },
      "execution_count": 20,
      "outputs": []
    },
    {
      "cell_type": "code",
      "source": [
        "if fe_4 == True:\n",
        "\n",
        "  df['Country'] = df['Country'].apply(map_to_latin_america)\n",
        "  df['Country'] = df['Country'].apply(map_to_african)\n",
        "  df['Country'] = df['Country'].apply(map_to_balkan)\n",
        "  df['Country'] = df['Country'].apply(map_to_scandinavian)\n",
        "  df['Country'] = df['Country'].apply(map_to_britania)\n",
        "\n",
        "  country_counts = df['Country'].value_counts()\n",
        "  values_to_replace = country_counts[country_counts < 10].index\n",
        "  df.loc[df['Country'].isin(values_to_replace), 'Country'] = 'Others'"
      ],
      "metadata": {
        "id": "A217spoEeAN_"
      },
      "execution_count": 21,
      "outputs": []
    },
    {
      "cell_type": "code",
      "source": [
        "df.Country.value_counts()"
      ],
      "metadata": {
        "colab": {
          "base_uri": "https://localhost:8080/"
        },
        "id": "ZgAs6uDneAGn",
        "outputId": "e050fca4-dce5-46fa-c81e-d85fa35b122f"
      },
      "execution_count": 22,
      "outputs": [
        {
          "output_type": "execute_result",
          "data": {
            "text/plain": [
              "Country\n",
              "Italy             688\n",
              "Latin America     577\n",
              "England           475\n",
              "African           426\n",
              "Germany           351\n",
              "France            329\n",
              "Scandinavian      198\n",
              "Balkan            161\n",
              "Netherlands       142\n",
              "Others            103\n",
              "Belgium            97\n",
              "Switzerland        95\n",
              "Spain              95\n",
              "Britania           79\n",
              "Austria            59\n",
              "Greece             50\n",
              "Poland             47\n",
              "Ireland            37\n",
              "Japan              36\n",
              "United States      35\n",
              "Australia          31\n",
              "Turkey             28\n",
              "Portugal           24\n",
              "Czech Republic     14\n",
              "Slovakia           13\n",
              "USA                12\n",
              "Ukraine            11\n",
              "Name: count, dtype: int64"
            ]
          },
          "metadata": {},
          "execution_count": 22
        }
      ]
    },
    {
      "cell_type": "markdown",
      "source": [
        "<h1>Data Preparation"
      ],
      "metadata": {
        "id": "nzFiNHM4Wy5L"
      }
    },
    {
      "cell_type": "code",
      "source": [
        "df.head()"
      ],
      "metadata": {
        "colab": {
          "base_uri": "https://localhost:8080/",
          "height": 377
        },
        "id": "uZww5jcMXqCz",
        "outputId": "5bd8e035-7f82-426f-f130-6e94ff9c0601"
      },
      "execution_count": 23,
      "outputs": [
        {
          "output_type": "execute_result",
          "data": {
            "text/plain": [
              "           League  Country            Price   Age  Height_cm  Weight_kg  \\\n",
              "0  Premier League  England  5 to 15 million  24.0        185         88   \n",
              "1  Premier League   France   1 to 5 million  19.0        184         80   \n",
              "2  Premier League  African  5 to 15 million  26.0        196         91   \n",
              "3  Premier League      USA   1 to 5 million  20.0        191         86   \n",
              "4  Premier League  Germany   1 to 5 million  19.0        176         72   \n",
              "\n",
              "  Position   Foot  IntReputation  Crossing  ...  Vision  Penalties  Marking  \\\n",
              "0      ATT  Right            1.0      46.0  ...    68.0       67.0     25.0   \n",
              "1      MID  Right            1.0      52.0  ...    72.0       57.0     55.0   \n",
              "2      DEF  Right            2.0      31.0  ...    56.0       38.0     75.0   \n",
              "3      MID   Left            1.0      57.0  ...    61.0       55.0     53.0   \n",
              "4      ATT   Left            2.0      70.0  ...    79.0       65.0     14.0   \n",
              "\n",
              "   Standing_tackle  Sliding_tackle  GK_diving  GK_handling  GK_kicking  \\\n",
              "0             34.0            35.0       10.0          7.0        13.0   \n",
              "1             54.0            62.0        6.0          7.0        10.0   \n",
              "2             78.0            75.0       13.0         10.0         6.0   \n",
              "3             54.0            55.0       15.0          6.0        12.0   \n",
              "4             24.0            23.0       11.0         11.0         7.0   \n",
              "\n",
              "   GK_positioning  GK_reflexes  \n",
              "0            12.0          6.0  \n",
              "1            15.0          9.0  \n",
              "2             8.0          7.0  \n",
              "3            11.0          8.0  \n",
              "4            10.0          8.0  \n",
              "\n",
              "[5 rows x 42 columns]"
            ],
            "text/html": [
              "\n",
              "  <div id=\"df-b614e471-72a5-40f0-8ab4-b4771bcbfbe9\" class=\"colab-df-container\">\n",
              "    <div>\n",
              "<style scoped>\n",
              "    .dataframe tbody tr th:only-of-type {\n",
              "        vertical-align: middle;\n",
              "    }\n",
              "\n",
              "    .dataframe tbody tr th {\n",
              "        vertical-align: top;\n",
              "    }\n",
              "\n",
              "    .dataframe thead th {\n",
              "        text-align: right;\n",
              "    }\n",
              "</style>\n",
              "<table border=\"1\" class=\"dataframe\">\n",
              "  <thead>\n",
              "    <tr style=\"text-align: right;\">\n",
              "      <th></th>\n",
              "      <th>League</th>\n",
              "      <th>Country</th>\n",
              "      <th>Price</th>\n",
              "      <th>Age</th>\n",
              "      <th>Height_cm</th>\n",
              "      <th>Weight_kg</th>\n",
              "      <th>Position</th>\n",
              "      <th>Foot</th>\n",
              "      <th>IntReputation</th>\n",
              "      <th>Crossing</th>\n",
              "      <th>...</th>\n",
              "      <th>Vision</th>\n",
              "      <th>Penalties</th>\n",
              "      <th>Marking</th>\n",
              "      <th>Standing_tackle</th>\n",
              "      <th>Sliding_tackle</th>\n",
              "      <th>GK_diving</th>\n",
              "      <th>GK_handling</th>\n",
              "      <th>GK_kicking</th>\n",
              "      <th>GK_positioning</th>\n",
              "      <th>GK_reflexes</th>\n",
              "    </tr>\n",
              "  </thead>\n",
              "  <tbody>\n",
              "    <tr>\n",
              "      <th>0</th>\n",
              "      <td>Premier League</td>\n",
              "      <td>England</td>\n",
              "      <td>5 to 15 million</td>\n",
              "      <td>24.0</td>\n",
              "      <td>185</td>\n",
              "      <td>88</td>\n",
              "      <td>ATT</td>\n",
              "      <td>Right</td>\n",
              "      <td>1.0</td>\n",
              "      <td>46.0</td>\n",
              "      <td>...</td>\n",
              "      <td>68.0</td>\n",
              "      <td>67.0</td>\n",
              "      <td>25.0</td>\n",
              "      <td>34.0</td>\n",
              "      <td>35.0</td>\n",
              "      <td>10.0</td>\n",
              "      <td>7.0</td>\n",
              "      <td>13.0</td>\n",
              "      <td>12.0</td>\n",
              "      <td>6.0</td>\n",
              "    </tr>\n",
              "    <tr>\n",
              "      <th>1</th>\n",
              "      <td>Premier League</td>\n",
              "      <td>France</td>\n",
              "      <td>1 to 5 million</td>\n",
              "      <td>19.0</td>\n",
              "      <td>184</td>\n",
              "      <td>80</td>\n",
              "      <td>MID</td>\n",
              "      <td>Right</td>\n",
              "      <td>1.0</td>\n",
              "      <td>52.0</td>\n",
              "      <td>...</td>\n",
              "      <td>72.0</td>\n",
              "      <td>57.0</td>\n",
              "      <td>55.0</td>\n",
              "      <td>54.0</td>\n",
              "      <td>62.0</td>\n",
              "      <td>6.0</td>\n",
              "      <td>7.0</td>\n",
              "      <td>10.0</td>\n",
              "      <td>15.0</td>\n",
              "      <td>9.0</td>\n",
              "    </tr>\n",
              "    <tr>\n",
              "      <th>2</th>\n",
              "      <td>Premier League</td>\n",
              "      <td>African</td>\n",
              "      <td>5 to 15 million</td>\n",
              "      <td>26.0</td>\n",
              "      <td>196</td>\n",
              "      <td>91</td>\n",
              "      <td>DEF</td>\n",
              "      <td>Right</td>\n",
              "      <td>2.0</td>\n",
              "      <td>31.0</td>\n",
              "      <td>...</td>\n",
              "      <td>56.0</td>\n",
              "      <td>38.0</td>\n",
              "      <td>75.0</td>\n",
              "      <td>78.0</td>\n",
              "      <td>75.0</td>\n",
              "      <td>13.0</td>\n",
              "      <td>10.0</td>\n",
              "      <td>6.0</td>\n",
              "      <td>8.0</td>\n",
              "      <td>7.0</td>\n",
              "    </tr>\n",
              "    <tr>\n",
              "      <th>3</th>\n",
              "      <td>Premier League</td>\n",
              "      <td>USA</td>\n",
              "      <td>1 to 5 million</td>\n",
              "      <td>20.0</td>\n",
              "      <td>191</td>\n",
              "      <td>86</td>\n",
              "      <td>MID</td>\n",
              "      <td>Left</td>\n",
              "      <td>1.0</td>\n",
              "      <td>57.0</td>\n",
              "      <td>...</td>\n",
              "      <td>61.0</td>\n",
              "      <td>55.0</td>\n",
              "      <td>53.0</td>\n",
              "      <td>54.0</td>\n",
              "      <td>55.0</td>\n",
              "      <td>15.0</td>\n",
              "      <td>6.0</td>\n",
              "      <td>12.0</td>\n",
              "      <td>11.0</td>\n",
              "      <td>8.0</td>\n",
              "    </tr>\n",
              "    <tr>\n",
              "      <th>4</th>\n",
              "      <td>Premier League</td>\n",
              "      <td>Germany</td>\n",
              "      <td>1 to 5 million</td>\n",
              "      <td>19.0</td>\n",
              "      <td>176</td>\n",
              "      <td>72</td>\n",
              "      <td>ATT</td>\n",
              "      <td>Left</td>\n",
              "      <td>2.0</td>\n",
              "      <td>70.0</td>\n",
              "      <td>...</td>\n",
              "      <td>79.0</td>\n",
              "      <td>65.0</td>\n",
              "      <td>14.0</td>\n",
              "      <td>24.0</td>\n",
              "      <td>23.0</td>\n",
              "      <td>11.0</td>\n",
              "      <td>11.0</td>\n",
              "      <td>7.0</td>\n",
              "      <td>10.0</td>\n",
              "      <td>8.0</td>\n",
              "    </tr>\n",
              "  </tbody>\n",
              "</table>\n",
              "<p>5 rows × 42 columns</p>\n",
              "</div>\n",
              "    <div class=\"colab-df-buttons\">\n",
              "\n",
              "  <div class=\"colab-df-container\">\n",
              "    <button class=\"colab-df-convert\" onclick=\"convertToInteractive('df-b614e471-72a5-40f0-8ab4-b4771bcbfbe9')\"\n",
              "            title=\"Convert this dataframe to an interactive table.\"\n",
              "            style=\"display:none;\">\n",
              "\n",
              "  <svg xmlns=\"http://www.w3.org/2000/svg\" height=\"24px\" viewBox=\"0 -960 960 960\">\n",
              "    <path d=\"M120-120v-720h720v720H120Zm60-500h600v-160H180v160Zm220 220h160v-160H400v160Zm0 220h160v-160H400v160ZM180-400h160v-160H180v160Zm440 0h160v-160H620v160ZM180-180h160v-160H180v160Zm440 0h160v-160H620v160Z\"/>\n",
              "  </svg>\n",
              "    </button>\n",
              "\n",
              "  <style>\n",
              "    .colab-df-container {\n",
              "      display:flex;\n",
              "      gap: 12px;\n",
              "    }\n",
              "\n",
              "    .colab-df-convert {\n",
              "      background-color: #E8F0FE;\n",
              "      border: none;\n",
              "      border-radius: 50%;\n",
              "      cursor: pointer;\n",
              "      display: none;\n",
              "      fill: #1967D2;\n",
              "      height: 32px;\n",
              "      padding: 0 0 0 0;\n",
              "      width: 32px;\n",
              "    }\n",
              "\n",
              "    .colab-df-convert:hover {\n",
              "      background-color: #E2EBFA;\n",
              "      box-shadow: 0px 1px 2px rgba(60, 64, 67, 0.3), 0px 1px 3px 1px rgba(60, 64, 67, 0.15);\n",
              "      fill: #174EA6;\n",
              "    }\n",
              "\n",
              "    .colab-df-buttons div {\n",
              "      margin-bottom: 4px;\n",
              "    }\n",
              "\n",
              "    [theme=dark] .colab-df-convert {\n",
              "      background-color: #3B4455;\n",
              "      fill: #D2E3FC;\n",
              "    }\n",
              "\n",
              "    [theme=dark] .colab-df-convert:hover {\n",
              "      background-color: #434B5C;\n",
              "      box-shadow: 0px 1px 3px 1px rgba(0, 0, 0, 0.15);\n",
              "      filter: drop-shadow(0px 1px 2px rgba(0, 0, 0, 0.3));\n",
              "      fill: #FFFFFF;\n",
              "    }\n",
              "  </style>\n",
              "\n",
              "    <script>\n",
              "      const buttonEl =\n",
              "        document.querySelector('#df-b614e471-72a5-40f0-8ab4-b4771bcbfbe9 button.colab-df-convert');\n",
              "      buttonEl.style.display =\n",
              "        google.colab.kernel.accessAllowed ? 'block' : 'none';\n",
              "\n",
              "      async function convertToInteractive(key) {\n",
              "        const element = document.querySelector('#df-b614e471-72a5-40f0-8ab4-b4771bcbfbe9');\n",
              "        const dataTable =\n",
              "          await google.colab.kernel.invokeFunction('convertToInteractive',\n",
              "                                                    [key], {});\n",
              "        if (!dataTable) return;\n",
              "\n",
              "        const docLinkHtml = 'Like what you see? Visit the ' +\n",
              "          '<a target=\"_blank\" href=https://colab.research.google.com/notebooks/data_table.ipynb>data table notebook</a>'\n",
              "          + ' to learn more about interactive tables.';\n",
              "        element.innerHTML = '';\n",
              "        dataTable['output_type'] = 'display_data';\n",
              "        await google.colab.output.renderOutput(dataTable, element);\n",
              "        const docLink = document.createElement('div');\n",
              "        docLink.innerHTML = docLinkHtml;\n",
              "        element.appendChild(docLink);\n",
              "      }\n",
              "    </script>\n",
              "  </div>\n",
              "\n",
              "\n",
              "<div id=\"df-37954923-4b72-4239-977b-e9188daa950d\">\n",
              "  <button class=\"colab-df-quickchart\" onclick=\"quickchart('df-37954923-4b72-4239-977b-e9188daa950d')\"\n",
              "            title=\"Suggest charts\"\n",
              "            style=\"display:none;\">\n",
              "\n",
              "<svg xmlns=\"http://www.w3.org/2000/svg\" height=\"24px\"viewBox=\"0 0 24 24\"\n",
              "     width=\"24px\">\n",
              "    <g>\n",
              "        <path d=\"M19 3H5c-1.1 0-2 .9-2 2v14c0 1.1.9 2 2 2h14c1.1 0 2-.9 2-2V5c0-1.1-.9-2-2-2zM9 17H7v-7h2v7zm4 0h-2V7h2v10zm4 0h-2v-4h2v4z\"/>\n",
              "    </g>\n",
              "</svg>\n",
              "  </button>\n",
              "\n",
              "<style>\n",
              "  .colab-df-quickchart {\n",
              "      --bg-color: #E8F0FE;\n",
              "      --fill-color: #1967D2;\n",
              "      --hover-bg-color: #E2EBFA;\n",
              "      --hover-fill-color: #174EA6;\n",
              "      --disabled-fill-color: #AAA;\n",
              "      --disabled-bg-color: #DDD;\n",
              "  }\n",
              "\n",
              "  [theme=dark] .colab-df-quickchart {\n",
              "      --bg-color: #3B4455;\n",
              "      --fill-color: #D2E3FC;\n",
              "      --hover-bg-color: #434B5C;\n",
              "      --hover-fill-color: #FFFFFF;\n",
              "      --disabled-bg-color: #3B4455;\n",
              "      --disabled-fill-color: #666;\n",
              "  }\n",
              "\n",
              "  .colab-df-quickchart {\n",
              "    background-color: var(--bg-color);\n",
              "    border: none;\n",
              "    border-radius: 50%;\n",
              "    cursor: pointer;\n",
              "    display: none;\n",
              "    fill: var(--fill-color);\n",
              "    height: 32px;\n",
              "    padding: 0;\n",
              "    width: 32px;\n",
              "  }\n",
              "\n",
              "  .colab-df-quickchart:hover {\n",
              "    background-color: var(--hover-bg-color);\n",
              "    box-shadow: 0 1px 2px rgba(60, 64, 67, 0.3), 0 1px 3px 1px rgba(60, 64, 67, 0.15);\n",
              "    fill: var(--button-hover-fill-color);\n",
              "  }\n",
              "\n",
              "  .colab-df-quickchart-complete:disabled,\n",
              "  .colab-df-quickchart-complete:disabled:hover {\n",
              "    background-color: var(--disabled-bg-color);\n",
              "    fill: var(--disabled-fill-color);\n",
              "    box-shadow: none;\n",
              "  }\n",
              "\n",
              "  .colab-df-spinner {\n",
              "    border: 2px solid var(--fill-color);\n",
              "    border-color: transparent;\n",
              "    border-bottom-color: var(--fill-color);\n",
              "    animation:\n",
              "      spin 1s steps(1) infinite;\n",
              "  }\n",
              "\n",
              "  @keyframes spin {\n",
              "    0% {\n",
              "      border-color: transparent;\n",
              "      border-bottom-color: var(--fill-color);\n",
              "      border-left-color: var(--fill-color);\n",
              "    }\n",
              "    20% {\n",
              "      border-color: transparent;\n",
              "      border-left-color: var(--fill-color);\n",
              "      border-top-color: var(--fill-color);\n",
              "    }\n",
              "    30% {\n",
              "      border-color: transparent;\n",
              "      border-left-color: var(--fill-color);\n",
              "      border-top-color: var(--fill-color);\n",
              "      border-right-color: var(--fill-color);\n",
              "    }\n",
              "    40% {\n",
              "      border-color: transparent;\n",
              "      border-right-color: var(--fill-color);\n",
              "      border-top-color: var(--fill-color);\n",
              "    }\n",
              "    60% {\n",
              "      border-color: transparent;\n",
              "      border-right-color: var(--fill-color);\n",
              "    }\n",
              "    80% {\n",
              "      border-color: transparent;\n",
              "      border-right-color: var(--fill-color);\n",
              "      border-bottom-color: var(--fill-color);\n",
              "    }\n",
              "    90% {\n",
              "      border-color: transparent;\n",
              "      border-bottom-color: var(--fill-color);\n",
              "    }\n",
              "  }\n",
              "</style>\n",
              "\n",
              "  <script>\n",
              "    async function quickchart(key) {\n",
              "      const quickchartButtonEl =\n",
              "        document.querySelector('#' + key + ' button');\n",
              "      quickchartButtonEl.disabled = true;  // To prevent multiple clicks.\n",
              "      quickchartButtonEl.classList.add('colab-df-spinner');\n",
              "      try {\n",
              "        const charts = await google.colab.kernel.invokeFunction(\n",
              "            'suggestCharts', [key], {});\n",
              "      } catch (error) {\n",
              "        console.error('Error during call to suggestCharts:', error);\n",
              "      }\n",
              "      quickchartButtonEl.classList.remove('colab-df-spinner');\n",
              "      quickchartButtonEl.classList.add('colab-df-quickchart-complete');\n",
              "    }\n",
              "    (() => {\n",
              "      let quickchartButtonEl =\n",
              "        document.querySelector('#df-37954923-4b72-4239-977b-e9188daa950d button');\n",
              "      quickchartButtonEl.style.display =\n",
              "        google.colab.kernel.accessAllowed ? 'block' : 'none';\n",
              "    })();\n",
              "  </script>\n",
              "</div>\n",
              "    </div>\n",
              "  </div>\n"
            ],
            "application/vnd.google.colaboratory.intrinsic+json": {
              "type": "dataframe",
              "variable_name": "df"
            }
          },
          "metadata": {},
          "execution_count": 23
        }
      ]
    },
    {
      "cell_type": "code",
      "source": [
        "df_2 = df.copy()"
      ],
      "metadata": {
        "id": "dymKn6wJ6u3G"
      },
      "execution_count": 24,
      "outputs": []
    },
    {
      "cell_type": "markdown",
      "source": [
        "<h4>League Coding"
      ],
      "metadata": {
        "id": "VY3kZlZYXx7f"
      }
    },
    {
      "cell_type": "code",
      "source": [
        "y = df['League']\n",
        "print(y.unique())"
      ],
      "metadata": {
        "colab": {
          "base_uri": "https://localhost:8080/"
        },
        "id": "ljr-FfNfU4OZ",
        "outputId": "f574453e-ff6c-4ad1-ab48-6d5b143d831f"
      },
      "execution_count": 25,
      "outputs": [
        {
          "output_type": "stream",
          "name": "stdout",
          "text": [
            "['Premier League' 'Seria A' 'Bundesliga' 'La Liga']\n"
          ]
        }
      ]
    },
    {
      "cell_type": "code",
      "source": [
        "league_mapping = {\n",
        "    'Premier League': 0,\n",
        "    'Seria A': 1,\n",
        "    'Bundesliga': 2,\n",
        "    'La Liga': 3\n",
        "}\n",
        "\n",
        "df['League'] = df['League'].replace(league_mapping)"
      ],
      "metadata": {
        "id": "KXEhT9c8XIOT"
      },
      "execution_count": 26,
      "outputs": []
    },
    {
      "cell_type": "markdown",
      "source": [
        "<h4>Dummy Variables"
      ],
      "metadata": {
        "id": "u4gWIm9PX0Mx"
      }
    },
    {
      "cell_type": "code",
      "source": [
        "df = pd.get_dummies(df, columns=df.select_dtypes(include = 'object').columns, drop_first=True)"
      ],
      "metadata": {
        "id": "dJRQYmv8Xwjc"
      },
      "execution_count": 27,
      "outputs": []
    },
    {
      "cell_type": "markdown",
      "source": [
        "Upsampling"
      ],
      "metadata": {
        "id": "mb6OMEedl3E8"
      }
    },
    {
      "cell_type": "code",
      "source": [
        "'''\n",
        "from imblearn.over_sampling import SMOTE\n",
        "from collections import Counter\n",
        "from matplotlib import pyplot\n",
        "from sklearn.preprocessing import LabelEncoder\n",
        "\n",
        "data = df.values\n",
        "\n",
        "# split into input and output elements\n",
        "\n",
        "X, y = data[:, 1:], data[:,0]\n",
        "\n",
        "# label encode the target variable\n",
        "y = LabelEncoder().fit_transform(y)\n",
        "# transform the dataset\n",
        "oversample = SMOTE()\n",
        "X, y = oversample.fit_resample(X, y)\n",
        "# summarize distribution\n",
        "counter = Counter(y)\n",
        "for k,v in counter.items():\n",
        " per = v / len(y) * 100\n",
        " print('Class=%d, n=%d (%.3f%%)' % (k, v, per))\n",
        "# plot the distribution\n",
        "pyplot.bar(counter.keys(), counter.values())\n",
        "pyplot.show()\n",
        "'''"
      ],
      "metadata": {
        "colab": {
          "base_uri": "https://localhost:8080/",
          "height": 88
        },
        "id": "9Zjh__chlEJK",
        "outputId": "e3f1e9e3-27d9-4744-f17d-fc74e7aa2959"
      },
      "execution_count": 28,
      "outputs": [
        {
          "output_type": "execute_result",
          "data": {
            "text/plain": [
              "\"\\nfrom imblearn.over_sampling import SMOTE\\nfrom collections import Counter\\nfrom matplotlib import pyplot\\nfrom sklearn.preprocessing import LabelEncoder\\n\\ndata = df.values\\n\\n# split into input and output elements\\n\\nX, y = data[:, 1:], data[:,0]\\n\\n# label encode the target variable\\ny = LabelEncoder().fit_transform(y)\\n# transform the dataset\\noversample = SMOTE()\\nX, y = oversample.fit_resample(X, y)\\n# summarize distribution\\ncounter = Counter(y)\\nfor k,v in counter.items():\\n per = v / len(y) * 100\\n print('Class=%d, n=%d (%.3f%%)' % (k, v, per))\\n# plot the distribution\\npyplot.bar(counter.keys(), counter.values())\\npyplot.show()\\n\""
            ],
            "application/vnd.google.colaboratory.intrinsic+json": {
              "type": "string"
            }
          },
          "metadata": {},
          "execution_count": 28
        }
      ]
    },
    {
      "cell_type": "markdown",
      "source": [
        "<h4>Dataset Split"
      ],
      "metadata": {
        "id": "Q7gFI6RIa0Qh"
      }
    },
    {
      "cell_type": "code",
      "source": [
        "from sklearn.model_selection import train_test_split\n",
        "\n",
        "X = df.drop('League', axis = 1)\n",
        "y = df['League']\n",
        "X_train, X_test, y_train, y_test = train_test_split(X, y, test_size=0.25, random_state=42)"
      ],
      "metadata": {
        "id": "Az43bfD3a2Ng"
      },
      "execution_count": 29,
      "outputs": []
    },
    {
      "cell_type": "code",
      "source": [
        "# check inbalance\n",
        "\n",
        "print(y_train.value_counts())\n",
        "print(y_test.value_counts())"
      ],
      "metadata": {
        "colab": {
          "base_uri": "https://localhost:8080/"
        },
        "id": "AXcblozsa2LU",
        "outputId": "83a24563-8635-4876-e4ab-e0e18d6a4faa"
      },
      "execution_count": 30,
      "outputs": [
        {
          "output_type": "stream",
          "name": "stdout",
          "text": [
            "League\n",
            "1    1086\n",
            "0     947\n",
            "2     629\n",
            "3     497\n",
            "Name: count, dtype: int64\n",
            "League\n",
            "0    347\n",
            "1    340\n",
            "2    207\n",
            "3    160\n",
            "Name: count, dtype: int64\n"
          ]
        }
      ]
    },
    {
      "cell_type": "markdown",
      "source": [
        "<h4>Scaling"
      ],
      "metadata": {
        "id": "VpRKu89lbxBV"
      }
    },
    {
      "cell_type": "code",
      "source": [
        "from sklearn.preprocessing import StandardScaler\n",
        "scaler = StandardScaler()\n",
        "\n",
        "X_train = scaler.fit_transform(X_train)\n",
        "X_test = scaler.transform(X_test)"
      ],
      "metadata": {
        "id": "tbu-a2ICa2GY"
      },
      "execution_count": 31,
      "outputs": []
    },
    {
      "cell_type": "markdown",
      "source": [
        "<h1>Modelling"
      ],
      "metadata": {
        "id": "mHfLQ_bJX_up"
      }
    },
    {
      "cell_type": "code",
      "source": [
        "!pip install catboost"
      ],
      "metadata": {
        "colab": {
          "base_uri": "https://localhost:8080/"
        },
        "id": "h2WBCsmqQzA9",
        "outputId": "3d3995b3-d4ef-49f0-f487-6c9d0a3f382f"
      },
      "execution_count": 32,
      "outputs": [
        {
          "output_type": "stream",
          "name": "stdout",
          "text": [
            "Collecting catboost\n",
            "  Downloading catboost-1.2.5-cp310-cp310-manylinux2014_x86_64.whl (98.2 MB)\n",
            "\u001b[2K     \u001b[90m━━━━━━━━━━━━━━━━━━━━━━━━━━━━━━━━━━━━━━━━\u001b[0m \u001b[32m98.2/98.2 MB\u001b[0m \u001b[31m5.7 MB/s\u001b[0m eta \u001b[36m0:00:00\u001b[0m\n",
            "\u001b[?25hRequirement already satisfied: graphviz in /usr/local/lib/python3.10/dist-packages (from catboost) (0.20.3)\n",
            "Requirement already satisfied: matplotlib in /usr/local/lib/python3.10/dist-packages (from catboost) (3.7.1)\n",
            "Requirement already satisfied: numpy>=1.16.0 in /usr/local/lib/python3.10/dist-packages (from catboost) (1.25.2)\n",
            "Requirement already satisfied: pandas>=0.24 in /usr/local/lib/python3.10/dist-packages (from catboost) (2.0.3)\n",
            "Requirement already satisfied: scipy in /usr/local/lib/python3.10/dist-packages (from catboost) (1.11.4)\n",
            "Requirement already satisfied: plotly in /usr/local/lib/python3.10/dist-packages (from catboost) (5.15.0)\n",
            "Requirement already satisfied: six in /usr/local/lib/python3.10/dist-packages (from catboost) (1.16.0)\n",
            "Requirement already satisfied: python-dateutil>=2.8.2 in /usr/local/lib/python3.10/dist-packages (from pandas>=0.24->catboost) (2.8.2)\n",
            "Requirement already satisfied: pytz>=2020.1 in /usr/local/lib/python3.10/dist-packages (from pandas>=0.24->catboost) (2023.4)\n",
            "Requirement already satisfied: tzdata>=2022.1 in /usr/local/lib/python3.10/dist-packages (from pandas>=0.24->catboost) (2024.1)\n",
            "Requirement already satisfied: contourpy>=1.0.1 in /usr/local/lib/python3.10/dist-packages (from matplotlib->catboost) (1.2.1)\n",
            "Requirement already satisfied: cycler>=0.10 in /usr/local/lib/python3.10/dist-packages (from matplotlib->catboost) (0.12.1)\n",
            "Requirement already satisfied: fonttools>=4.22.0 in /usr/local/lib/python3.10/dist-packages (from matplotlib->catboost) (4.51.0)\n",
            "Requirement already satisfied: kiwisolver>=1.0.1 in /usr/local/lib/python3.10/dist-packages (from matplotlib->catboost) (1.4.5)\n",
            "Requirement already satisfied: packaging>=20.0 in /usr/local/lib/python3.10/dist-packages (from matplotlib->catboost) (24.0)\n",
            "Requirement already satisfied: pillow>=6.2.0 in /usr/local/lib/python3.10/dist-packages (from matplotlib->catboost) (9.4.0)\n",
            "Requirement already satisfied: pyparsing>=2.3.1 in /usr/local/lib/python3.10/dist-packages (from matplotlib->catboost) (3.1.2)\n",
            "Requirement already satisfied: tenacity>=6.2.0 in /usr/local/lib/python3.10/dist-packages (from plotly->catboost) (8.3.0)\n",
            "Installing collected packages: catboost\n",
            "Successfully installed catboost-1.2.5\n"
          ]
        }
      ]
    },
    {
      "cell_type": "code",
      "source": [
        "from sklearn.linear_model import LogisticRegression\n",
        "from sklearn.svm import SVC\n",
        "from sklearn.ensemble import RandomForestClassifier\n",
        "from sklearn.ensemble import GradientBoostingClassifier\n",
        "from sklearn.neighbors import KNeighborsClassifier\n",
        "from sklearn.neural_network import MLPClassifier\n",
        "from catboost import CatBoostClassifier\n",
        "\n",
        "\n",
        "from sklearn.metrics import accuracy_score, classification_report\n",
        "\n",
        "from sklearn.model_selection import RandomizedSearchCV"
      ],
      "metadata": {
        "id": "T9eDdAIxcThT"
      },
      "execution_count": 33,
      "outputs": []
    },
    {
      "cell_type": "code",
      "source": [
        "class_names = ['Premier League', 'Seria A', 'Bundesliga', 'La Liga']\n",
        "models = []\n",
        "model_names = []"
      ],
      "metadata": {
        "id": "_TZtJ0P9cLZn"
      },
      "execution_count": 34,
      "outputs": []
    },
    {
      "cell_type": "markdown",
      "source": [
        "<h4>SVM"
      ],
      "metadata": {
        "id": "3QC8icjibSno"
      }
    },
    {
      "cell_type": "code",
      "source": [
        "model_svm = SVC()\n",
        "model_svm.fit(X_train, y_train)\n",
        "\n",
        "models.append(model_svm)\n",
        "model_names.append('SVM')\n",
        "\n",
        "y_pred = model_svm.predict(X_test)\n",
        "print(\"Classification Report:\\n\", classification_report(y_test, y_pred))\n",
        "print(\"Accuracy Score: \", accuracy_score(y_test, y_pred))"
      ],
      "metadata": {
        "id": "x27O1BCkbVCx",
        "colab": {
          "base_uri": "https://localhost:8080/"
        },
        "outputId": "026c1507-a894-4f3e-904c-d6fc5d45d060"
      },
      "execution_count": 35,
      "outputs": [
        {
          "output_type": "stream",
          "name": "stdout",
          "text": [
            "Classification Report:\n",
            "               precision    recall  f1-score   support\n",
            "\n",
            "           0       0.67      0.73      0.70       347\n",
            "           1       0.65      0.74      0.69       340\n",
            "           2       0.60      0.56      0.58       207\n",
            "           3       0.50      0.33      0.39       160\n",
            "\n",
            "    accuracy                           0.64      1054\n",
            "   macro avg       0.61      0.59      0.59      1054\n",
            "weighted avg       0.63      0.64      0.63      1054\n",
            "\n",
            "Accuracy Score:  0.635673624288425\n"
          ]
        }
      ]
    },
    {
      "cell_type": "markdown",
      "source": [
        "<h4>Random Forest"
      ],
      "metadata": {
        "id": "mbyxtpXqbWQ-"
      }
    },
    {
      "cell_type": "code",
      "source": [
        "model_random_frst = RandomForestClassifier()\n",
        "model_random_frst.fit(X_train, y_train)\n",
        "models.append(model_random_frst)\n",
        "model_names.append('Random Forest')\n",
        "\n",
        "\n",
        "feature_importances = model_random_frst.feature_importances_\n",
        "\n",
        "importance_df = pd.DataFrame({'Feature': df.drop('League', axis=1).columns, 'Importance': feature_importances})\n",
        "\n",
        "sorted_importance_df = importance_df.sort_values(by='Importance', ascending=False)\n",
        "\n",
        "print(\"Top 15 Most Important Features:\")\n",
        "print(sorted_importance_df.head(15))"
      ],
      "metadata": {
        "colab": {
          "base_uri": "https://localhost:8080/"
        },
        "id": "3EPGFBYfbXbF",
        "outputId": "922fcc8f-96b9-4f0a-c061-3036cbc4194b"
      },
      "execution_count": 36,
      "outputs": [
        {
          "output_type": "stream",
          "name": "stdout",
          "text": [
            "Top 15 Most Important Features:\n",
            "            Feature  Importance\n",
            "48    Country_Italy    0.076923\n",
            "43  Country_England    0.059472\n",
            "45  Country_Germany    0.047614\n",
            "2         Weight_kg    0.022761\n",
            "25    Interceptions    0.022004\n",
            "18          Balance    0.021739\n",
            "20          Jumping    0.021592\n",
            "15     Sprint_speed    0.020842\n",
            "1         Height_cm    0.020669\n",
            "22         Strength    0.020663\n",
            "31   Sliding_tackle    0.020532\n",
            "24       Aggression    0.020427\n",
            "23       Long_shots    0.019915\n",
            "21          Stamina    0.019899\n",
            "14     Acceleration    0.019896\n"
          ]
        }
      ]
    },
    {
      "cell_type": "code",
      "source": [
        "y_pred = model_random_frst.predict(X_test)\n",
        "print(\"Classification Report:\\n\", classification_report(y_test, y_pred))\n",
        "print(\"Accuracy Score: \", accuracy_score(y_test, y_pred))"
      ],
      "metadata": {
        "colab": {
          "base_uri": "https://localhost:8080/"
        },
        "id": "ltUon8NTWG1I",
        "outputId": "2cf18767-be46-4793-c8b3-7ce8d4221997"
      },
      "execution_count": 37,
      "outputs": [
        {
          "output_type": "stream",
          "name": "stdout",
          "text": [
            "Classification Report:\n",
            "               precision    recall  f1-score   support\n",
            "\n",
            "           0       0.65      0.73      0.69       347\n",
            "           1       0.64      0.77      0.70       340\n",
            "           2       0.66      0.51      0.57       207\n",
            "           3       0.51      0.33      0.40       160\n",
            "\n",
            "    accuracy                           0.64      1054\n",
            "   macro avg       0.62      0.58      0.59      1054\n",
            "weighted avg       0.63      0.64      0.62      1054\n",
            "\n",
            "Accuracy Score:  0.635673624288425\n"
          ]
        }
      ]
    },
    {
      "cell_type": "markdown",
      "source": [
        "<h4>Gradient Boosting"
      ],
      "metadata": {
        "id": "1Dc-MlEebYlx"
      }
    },
    {
      "cell_type": "code",
      "source": [
        "model_gr_boost = GradientBoostingClassifier()\n",
        "model_gr_boost.fit(X_train, y_train)\n",
        "models.append(model_gr_boost)\n",
        "model_names.append('Gradient Boosting')\n",
        "\n",
        "feature_importances = model_gr_boost.feature_importances_\n",
        "\n",
        "importance_df = pd.DataFrame({'Feature': df.drop('League', axis=1).columns, 'Importance': feature_importances})\n",
        "\n",
        "sorted_importance_df = importance_df.sort_values(by='Importance', ascending=False)\n",
        "\n",
        "print(\"Top 15 Most Important Features:\")\n",
        "print(sorted_importance_df.head(15))"
      ],
      "metadata": {
        "colab": {
          "base_uri": "https://localhost:8080/"
        },
        "id": "7c05dT1dbaGi",
        "outputId": "376c6721-4c11-4da6-f921-f6f873566d9e"
      },
      "execution_count": 38,
      "outputs": [
        {
          "output_type": "stream",
          "name": "stdout",
          "text": [
            "Top 15 Most Important Features:\n",
            "                   Feature  Importance\n",
            "48           Country_Italy    0.192089\n",
            "43         Country_England    0.144077\n",
            "45         Country_Germany    0.119126\n",
            "50   Country_Latin America    0.052014\n",
            "57           Country_Spain    0.031371\n",
            "41        Country_Britania    0.022998\n",
            "39          Country_Balkan    0.013275\n",
            "63  Price_15 to 25 million    0.013174\n",
            "70              Price_Loan    0.012967\n",
            "47         Country_Ireland    0.012703\n",
            "20                 Jumping    0.012447\n",
            "2                Weight_kg    0.012326\n",
            "38         Country_Austria    0.012310\n",
            "5                Finishing    0.012309\n",
            "15            Sprint_speed    0.011760\n"
          ]
        }
      ]
    },
    {
      "cell_type": "code",
      "source": [
        "y_pred = model_gr_boost.predict(X_test)\n",
        "print(\"Classification Report:\\n\", classification_report(y_test, y_pred))\n",
        "print(\"Accuracy Score: \", accuracy_score(y_test, y_pred))"
      ],
      "metadata": {
        "colab": {
          "base_uri": "https://localhost:8080/"
        },
        "id": "XU52l3NXWcxm",
        "outputId": "ec53e511-9eba-450d-8ac6-2cda1c31b8f8"
      },
      "execution_count": 39,
      "outputs": [
        {
          "output_type": "stream",
          "name": "stdout",
          "text": [
            "Classification Report:\n",
            "               precision    recall  f1-score   support\n",
            "\n",
            "           0       0.70      0.73      0.71       347\n",
            "           1       0.63      0.76      0.69       340\n",
            "           2       0.63      0.52      0.57       207\n",
            "           3       0.56      0.39      0.46       160\n",
            "\n",
            "    accuracy                           0.64      1054\n",
            "   macro avg       0.63      0.60      0.61      1054\n",
            "weighted avg       0.64      0.64      0.64      1054\n",
            "\n",
            "Accuracy Score:  0.644212523719165\n"
          ]
        }
      ]
    },
    {
      "cell_type": "markdown",
      "source": [
        "<h4>kNN"
      ],
      "metadata": {
        "id": "7Li_v_Kaba6c"
      }
    },
    {
      "cell_type": "code",
      "source": [
        "model_knn = KNeighborsClassifier(n_neighbors=5)\n",
        "model_knn.fit(X_train, y_train)\n",
        "models.append(model_knn)\n",
        "model_names.append('kNN')"
      ],
      "metadata": {
        "id": "E9h_N5i7bciA"
      },
      "execution_count": 40,
      "outputs": []
    },
    {
      "cell_type": "code",
      "source": [
        "y_pred = model_knn.predict(X_test)\n",
        "print(\"Classification Report:\\n\", classification_report(y_test, y_pred))\n",
        "print(\"Accuracy Score: \", accuracy_score(y_test, y_pred))"
      ],
      "metadata": {
        "colab": {
          "base_uri": "https://localhost:8080/"
        },
        "id": "SzrqSC0GXyis",
        "outputId": "dc278094-56f3-445a-e97b-f1358193eb1c"
      },
      "execution_count": 41,
      "outputs": [
        {
          "output_type": "stream",
          "name": "stdout",
          "text": [
            "Classification Report:\n",
            "               precision    recall  f1-score   support\n",
            "\n",
            "           0       0.65      0.65      0.65       347\n",
            "           1       0.60      0.73      0.66       340\n",
            "           2       0.56      0.47      0.51       207\n",
            "           3       0.45      0.33      0.38       160\n",
            "\n",
            "    accuracy                           0.59      1054\n",
            "   macro avg       0.56      0.54      0.55      1054\n",
            "weighted avg       0.58      0.59      0.58      1054\n",
            "\n",
            "Accuracy Score:  0.5920303605313093\n"
          ]
        }
      ]
    },
    {
      "cell_type": "code",
      "source": [],
      "metadata": {
        "id": "3NT260nybXH0"
      },
      "execution_count": 41,
      "outputs": []
    },
    {
      "cell_type": "code",
      "source": [
        "\n",
        "model_catboost = CatBoostClassifier(\n",
        "    iterations=1000,\n",
        "    learning_rate=0.1,\n",
        "    depth=6,\n",
        "    loss_function='MultiClass',\n",
        "    verbose=0,  # To avoid printing the training process\n",
        "    random_state=42\n",
        ")\n",
        "\n",
        "model_catboost.fit(X_train, y_train)\n",
        "\n",
        "models.append(model_catboost)\n",
        "model_names.append('catboost')\n",
        "\n",
        "# Step 5: Evaluate the model\n",
        "y_pred = model_catboost.predict(X_test)\n",
        "print(\"Classification Report:\\n\", classification_report(y_test, y_pred))\n",
        "print(\"Accuracy Score: \", accuracy_score(y_test, y_pred))"
      ],
      "metadata": {
        "colab": {
          "base_uri": "https://localhost:8080/"
        },
        "id": "rWYnmf4jbP3M",
        "outputId": "7c94a22c-78c1-4fb3-b6dc-c1dd2b9a0a50"
      },
      "execution_count": 42,
      "outputs": [
        {
          "output_type": "stream",
          "name": "stdout",
          "text": [
            "Classification Report:\n",
            "               precision    recall  f1-score   support\n",
            "\n",
            "           0       0.69      0.71      0.70       347\n",
            "           1       0.68      0.75      0.72       340\n",
            "           2       0.64      0.57      0.61       207\n",
            "           3       0.53      0.46      0.49       160\n",
            "\n",
            "    accuracy                           0.66      1054\n",
            "   macro avg       0.64      0.62      0.63      1054\n",
            "weighted avg       0.65      0.66      0.65      1054\n",
            "\n",
            "Accuracy Score:  0.6584440227703985\n"
          ]
        }
      ]
    },
    {
      "cell_type": "code",
      "source": [
        "model_names"
      ],
      "metadata": {
        "colab": {
          "base_uri": "https://localhost:8080/"
        },
        "id": "MQudljSTlNKv",
        "outputId": "82e13616-6751-4a23-853e-3f33bb152133"
      },
      "execution_count": 43,
      "outputs": [
        {
          "output_type": "execute_result",
          "data": {
            "text/plain": [
              "['SVM', 'Random Forest', 'Gradient Boosting', 'kNN', 'catboost']"
            ]
          },
          "metadata": {},
          "execution_count": 43
        }
      ]
    },
    {
      "cell_type": "markdown",
      "source": [
        "<h1>Ensemble Voting Method"
      ],
      "metadata": {
        "id": "MNeMVfRsgUsf"
      }
    },
    {
      "cell_type": "code",
      "source": [
        "predictions_train = []; predictions_test = []\n",
        "for i in range(len(models)):\n",
        "  model = models[i]\n",
        "  y_pred_train = model.predict(X_train)\n",
        "  predictions_train.append(y_pred_train)\n",
        "\n",
        "  y_pred = model.predict(X_test)\n",
        "  predictions_test.append(y_pred)"
      ],
      "metadata": {
        "id": "AxmBhzSmLzGs"
      },
      "execution_count": 44,
      "outputs": []
    },
    {
      "cell_type": "code",
      "source": [
        "from collections import Counter\n",
        "\n",
        "train_final_answer = []\n",
        "for i in range(X_train.shape[0]):\n",
        "    ans = []\n",
        "    for pred in predictions_train:\n",
        "        ans.append(pred[i].item() if np.isscalar(pred[i]) else tuple(pred[i]))\n",
        "\n",
        "    counter = Counter(ans)\n",
        "    most_common_element, frequency = counter.most_common(1)[0]\n",
        "    train_final_answer.append(most_common_element)"
      ],
      "metadata": {
        "id": "WlYg7jPJLVie"
      },
      "execution_count": 45,
      "outputs": []
    },
    {
      "cell_type": "code",
      "source": [
        "test_final_answer = []\n",
        "for i in range(X_test.shape[0]):\n",
        "    ans = []\n",
        "    for pred in predictions_test:\n",
        "        ans.append(pred[i].item() if np.isscalar(pred[i]) else tuple(pred[i]))\n",
        "\n",
        "    counter = Counter(ans)\n",
        "    most_common_element, frequency = counter.most_common(1)[0]\n",
        "    test_final_answer.append(most_common_element)"
      ],
      "metadata": {
        "id": "n59vIPv7MAvy"
      },
      "execution_count": 46,
      "outputs": []
    },
    {
      "cell_type": "code",
      "source": [
        "accuracy = accuracy_score(y_train, train_final_answer)\n",
        "print(f\"Train Accuracy: {accuracy:.4f}\")\n",
        "\n",
        "accuracy = accuracy_score(y_test, test_final_answer)\n",
        "print(f\"Test Accuracy: {accuracy:.4f}\")\n",
        "\n",
        "report = classification_report(y_test, test_final_answer, target_names=class_names)\n",
        "print(\"\\nClassification Report:\")\n",
        "print(report)\n",
        "print('\\n**************************************************\\n')"
      ],
      "metadata": {
        "colab": {
          "base_uri": "https://localhost:8080/"
        },
        "id": "lb1SimG2MKRK",
        "outputId": "1c29ae83-c36b-4b00-a2a4-11c19dcd25df"
      },
      "execution_count": 47,
      "outputs": [
        {
          "output_type": "stream",
          "name": "stdout",
          "text": [
            "Train Accuracy: 0.7784\n",
            "Test Accuracy: 0.6423\n",
            "\n",
            "Classification Report:\n",
            "                precision    recall  f1-score   support\n",
            "\n",
            "Premier League       0.68      0.74      0.71       347\n",
            "       Seria A       0.64      0.75      0.69       340\n",
            "    Bundesliga       0.63      0.54      0.58       207\n",
            "       La Liga       0.52      0.33      0.40       160\n",
            "\n",
            "      accuracy                           0.64      1054\n",
            "     macro avg       0.62      0.59      0.60      1054\n",
            "  weighted avg       0.63      0.64      0.63      1054\n",
            "\n",
            "\n",
            "**************************************************\n",
            "\n"
          ]
        }
      ]
    },
    {
      "cell_type": "code",
      "source": [],
      "metadata": {
        "id": "CzyZ6jOCh3H3"
      },
      "execution_count": null,
      "outputs": []
    }
  ]
}